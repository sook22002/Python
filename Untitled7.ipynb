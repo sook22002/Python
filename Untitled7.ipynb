{
 "cells": [
  {
   "cell_type": "code",
   "execution_count": 1,
   "metadata": {},
   "outputs": [
    {
     "name": "stdout",
     "output_type": "stream",
     "text": [
      "{'H': 3, 'u': 7, 'm': 6, 'p': 6, 't': 13, 'y': 5, ' ': 22, 'D': 2, 's': 5, 'a': 11, 'o': 4, 'n': 7, 'w': 1, 'l': 9, ',': 1, '\\n': 3, 'h': 5, 'd': 3, 'g': 5, 'r': 3, 'e': 7, 'f': 1, '.': 2, 'A': 1, 'k': 2, 'i': 3, \"'\": 3, 'C': 1}\n"
     ]
    }
   ],
   "source": [
    "infile = open(\"D:/Python/humpydumpy.txt\",\"r\")\n",
    "rfile=infile.read()\n",
    "\n",
    "count={}\n",
    "\n",
    "for line in rfile:\n",
    "    for ch in line:\n",
    "        if ch in count:\n",
    "            count[ch]+=1\n",
    "        else:    \n",
    "            count[ch]=1\n",
    "            \n",
    "print(count)\n",
    "\n",
    "\n",
    "infile.close()"
   ]
  },
  {
   "cell_type": "code",
   "execution_count": null,
   "metadata": {},
   "outputs": [],
   "source": [
    "infile=open(\"D:/Python/number.txt\",\"r\")\n",
    "rfile=infile.readlines()\n",
    "infile.close()\n",
    "\n",
    "\n",
    "outfile=open(\"D:/Python/calculate.txt\",\"w\")\n",
    "\n",
    "total=0\n",
    "avg=0\n",
    "count=0\n",
    "\n",
    "for i in rfile:\n",
    "    total+=float(i)\n",
    "    count+=1\n",
    "    \n",
    "avg=total/count\n",
    "\n",
    "print(\"합계=\"+str(total), file=outfile, end=\"\\n\")\n",
    "print(\"평균=\"+str(avg), file=outfile, end=\"\")\n",
    "\n",
    "outfile.close()"
   ]
  },
  {
   "cell_type": "code",
   "execution_count": null,
   "metadata": {},
   "outputs": [],
   "source": [
    "class Circle:\n",
    "    def __init__(self,radius):\n",
    "        self.radius=radius\n",
    "    def calcPerimeter(self):\n",
    "        self.calcperimeter=3.14*2*self.radius\n",
    "    def calcArea(self):\n",
    "        self.calcarea=3.14*self.radius**2\n",
    "    def __str__(self):\n",
    "        result=\"반지름: \"+str(self.radius)+\"원의 반지름: \"+str(self.calcperimeter)+\"원의 넓이: \"+str(self.calcarea)\n",
    "        return result\n",
    "\n",
    "myCircle=Circle(100)\n",
    "myCircle.calcPerimeter()\n",
    "myCircle.calcArea()\n",
    "print(myCircle)\n",
    "    "
   ]
  },
  {
   "cell_type": "code",
   "execution_count": 1,
   "metadata": {},
   "outputs": [],
   "source": [
    "from turtle import *\n",
    "\n",
    "class MyTurtle(Turtle):\n",
    "    def drawSquare(self):\n",
    "        for i in range(4):\n",
    "            self.right(90)\n",
    "            self.forward(100)\n",
    "            \n",
    "my_turtle= MyTurtle()\n",
    "my_turtle.drawSquare()"
   ]
  },
  {
   "cell_type": "code",
   "execution_count": null,
   "metadata": {},
   "outputs": [],
   "source": []
  }
 ],
 "metadata": {
  "kernelspec": {
   "display_name": "Python 3",
   "language": "python",
   "name": "python3"
  },
  "language_info": {
   "codemirror_mode": {
    "name": "ipython",
    "version": 3
   },
   "file_extension": ".py",
   "mimetype": "text/x-python",
   "name": "python",
   "nbconvert_exporter": "python",
   "pygments_lexer": "ipython3",
   "version": "3.7.6"
  }
 },
 "nbformat": 4,
 "nbformat_minor": 4
}
